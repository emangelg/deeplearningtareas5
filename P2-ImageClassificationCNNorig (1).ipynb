{
 "cells": [
  {
   "cell_type": "markdown",
   "metadata": {},
   "source": [
    "# Project 2\n",
    "## Image Classification with CNN\n",
    "-------------------------------\n"
   ]
  },
  {
   "cell_type": "markdown",
   "metadata": {},
   "source": [
    "             Monica Tatiana Gutierrez cod: 201810348\n",
    "\n",
    "             Mario Felipe Garcia C cod: 201810339\n",
    "             \n",
    "             Erika Marcela Angel G cod: 201628012"
   ]
  },
  {
   "cell_type": "markdown",
   "metadata": {},
   "source": [
    "## 1. Direct prediction\n",
    "   * Download the dataset birds from http://www-cvr.ai.uiuc.edu/ponce_grp/data/.\n",
    "   * Use [Keras](https://keras.io/) and a CNN from Keras [Applications](https://keras.io/applications/) pretrained on ImageNet, to classify the images in the birds dataset. Construct a confusion matrix that relates the bird classes with the 10 most frequent classes from ImageNet predicted by the model.\n",
    "   * Discuss the results.\n",
    "   \n",
    "## 2. Transfer learning\n",
    "   * Use the pre-trained CNN model as a feature extractor. Create a new model that replaces the top part of the pretrained CNN with two layers of 256 and 6 neurons respectively.\n",
    "   * Train the model with the training images from the bird dataset. \n",
    "   * Evaluate the performance over the test dataset reporting the results in a confusion matrix. Discuss the results. \n",
    "   \n",
    "## 3. Fine tuning\n",
    "   * Repeat the experiment from the last question, but this time allow all the layers to be trained. \n",
    "   * Compare and discuss the results."
   ]
  },
  {
   "cell_type": "markdown",
   "metadata": {},
   "source": [
    "1. Direct prediction\n",
    "\n",
    "Download the dataset birds from http://www-cvr.ai.uiuc.edu/ponce_grp/data/.\n",
    "Use Keras and a CNN from Keras Applications pretrained on ImageNet, to classify the images in the birds dataset. Construct a confusion matrix that relates the bird classes with the 10 most frequent classes from ImageNet predicted by the model.\n",
    "Discuss the results."
   ]
  },
  {
   "cell_type": "code",
   "execution_count": 1,
   "metadata": {},
   "outputs": [],
   "source": [
    "#path = 'C:/Users/admicf/Documents/AppliedDeepLearningClass-master/exercises/Proyecto2/'\n",
    "#import tqdm\n",
    "path = 'C:/Users/ERIKA ANGEL/Desktop/Proyecto2/'"
   ]
  },
  {
   "cell_type": "code",
   "execution_count": 2,
   "metadata": {},
   "outputs": [
    {
     "name": "stderr",
     "output_type": "stream",
     "text": [
      "C:\\ProgramData\\Anaconda3\\lib\\site-packages\\h5py\\__init__.py:36: FutureWarning: Conversion of the second argument of issubdtype from `float` to `np.floating` is deprecated. In future, it will be treated as `np.float64 == np.dtype(float).type`.\n",
      "  from ._conv import register_converters as _register_converters\n",
      "Using TensorFlow backend.\n"
     ]
    }
   ],
   "source": [
    "%matplotlib inline\n",
    "import matplotlib.pyplot as plt\n",
    "from keras.preprocessing.image import ImageDataGenerator, array_to_img, img_to_array, load_img\n",
    "from skimage import io\n",
    "import pandas as pd\n",
    "import os\n",
    "import numpy as np\n",
    "from sklearn.preprocessing import MultiLabelBinarizer\n",
    "from sklearn.multiclass import OneVsRestClassifier\n",
    "from sklearn.ensemble import RandomForestRegressor, RandomForestClassifier\n",
    "from sklearn.metrics import r2_score, roc_auc_score\n",
    "from sklearn.model_selection import train_test_split\n",
    "from sklearn.decomposition import PCA\n",
    "import matplotlib.pyplot as plt\n",
    "from skimage import io\n",
    "from tqdm import tqdm\n",
    "import os\n",
    "%matplotlib inline"
   ]
  },
  {
   "cell_type": "markdown",
   "metadata": {},
   "source": [
    "Se carga un data frame con la información para las bases de train/ test. El data frame cuenta con el id de la foto y la categoría a la que pertenece."
   ]
  },
  {
   "cell_type": "code",
   "execution_count": 3,
   "metadata": {
    "scrolled": true
   },
   "outputs": [
    {
     "data": {
      "text/html": [
       "<div>\n",
       "<style scoped>\n",
       "    .dataframe tbody tr th:only-of-type {\n",
       "        vertical-align: middle;\n",
       "    }\n",
       "\n",
       "    .dataframe tbody tr th {\n",
       "        vertical-align: top;\n",
       "    }\n",
       "\n",
       "    .dataframe thead th {\n",
       "        text-align: right;\n",
       "    }\n",
       "</style>\n",
       "<table border=\"1\" class=\"dataframe\">\n",
       "  <thead>\n",
       "    <tr style=\"text-align: right;\">\n",
       "      <th></th>\n",
       "      <th>mandarin</th>\n",
       "      <th>puffin</th>\n",
       "      <th>owl</th>\n",
       "      <th>egret</th>\n",
       "      <th>toucan</th>\n",
       "      <th>wood_duck</th>\n",
       "    </tr>\n",
       "  </thead>\n",
       "  <tbody>\n",
       "    <tr>\n",
       "      <th>0</th>\n",
       "      <td>024</td>\n",
       "      <td>100</td>\n",
       "      <td>006</td>\n",
       "      <td>018</td>\n",
       "      <td>091</td>\n",
       "      <td>047</td>\n",
       "    </tr>\n",
       "    <tr>\n",
       "      <th>1</th>\n",
       "      <td>092</td>\n",
       "      <td>080</td>\n",
       "      <td>070</td>\n",
       "      <td>075</td>\n",
       "      <td>011</td>\n",
       "      <td>019</td>\n",
       "    </tr>\n",
       "    <tr>\n",
       "      <th>2</th>\n",
       "      <td>031</td>\n",
       "      <td>015</td>\n",
       "      <td>069</td>\n",
       "      <td>029</td>\n",
       "      <td>046</td>\n",
       "      <td>090</td>\n",
       "    </tr>\n",
       "    <tr>\n",
       "      <th>3</th>\n",
       "      <td>008</td>\n",
       "      <td>022</td>\n",
       "      <td>015</td>\n",
       "      <td>057</td>\n",
       "      <td>077</td>\n",
       "      <td>061</td>\n",
       "    </tr>\n",
       "    <tr>\n",
       "      <th>4</th>\n",
       "      <td>042</td>\n",
       "      <td>023</td>\n",
       "      <td>061</td>\n",
       "      <td>071</td>\n",
       "      <td>035</td>\n",
       "      <td>082</td>\n",
       "    </tr>\n",
       "  </tbody>\n",
       "</table>\n",
       "</div>"
      ],
      "text/plain": [
       "  mandarin puffin  owl egret toucan wood_duck\n",
       "0      024    100  006   018    091       047\n",
       "1      092    080  070   075    011       019\n",
       "2      031    015  069   029    046       090\n",
       "3      008    022  015   057    077       061\n",
       "4      042    023  061   071    035       082"
      ]
     },
     "execution_count": 3,
     "metadata": {},
     "output_type": "execute_result"
    }
   ],
   "source": [
    "dataTraining = pd.read_csv(os.path.join(path,  'birds_id_training.csv'), encoding='UTF-8',sep=\";\",dtype=object)\n",
    "dataTesting = pd.read_csv(os.path.join(path,  'birds_id_test.csv'), encoding='UTF-8', sep=\";\",dtype=object)\n",
    "dataTraining.head()"
   ]
  },
  {
   "cell_type": "markdown",
   "metadata": {},
   "source": [
    "A continuación un ejemplo de las imagenes de una de las 6 categorias, la cual corresponde a egret."
   ]
  },
  {
   "cell_type": "code",
   "execution_count": 3,
   "metadata": {},
   "outputs": [
    {
     "data": {
      "text/plain": [
       "<matplotlib.image.AxesImage at 0x25b1f9165c0>"
      ]
     },
     "execution_count": 3,
     "metadata": {},
     "output_type": "execute_result"
    },
    {
     "data": {
      "image/png": "[encoded data removed]",
      "text/plain": [
       "<matplotlib.figure.Figure at 0x25b1855b588>"
      ]
     },
     "metadata": {},
     "output_type": "display_data"
    }
   ],
   "source": [
    "import matplotlib.pyplot as plt\n",
    "from keras.preprocessing.image import ImageDataGenerator, array_to_img, img_to_array, load_img\n",
    "\n",
    "img = load_img('birds/egret/egr019.jpg')  # this is a PIL image\n",
    "x = img_to_array(img)  # this is a Numpy array with shape (3, 150, 150)\n",
    "plt.imshow(img)"
   ]
  },
  {
   "cell_type": "code",
   "execution_count": 4,
   "metadata": {},
   "outputs": [],
   "source": [
    "import PIL\n",
    "from PIL import Image\n",
    "import glob\n",
    "import piexif\n",
    "\n",
    "def images_train(path,categories, px):  \n",
    "    img = Image.open(path)\n",
    "    img = img.resize(px)\n",
    "    image = np.array(img)\n",
    "    X_train.append(image)\n",
    "    y_train.append(np.array([categories]))\n",
    "    \n",
    "def images_test(path,categories, px):  \n",
    "    img = Image.open(path)\n",
    "    img = img.resize(px)\n",
    "    image = np.array(img)\n",
    "    X_test.append(image)\n",
    "    y_test.append(np.array([categories])) "
   ]
  },
  {
   "cell_type": "markdown",
   "metadata": {},
   "source": [
    "En el proceso de cruzar la información del data frame con las imágenes para cargarlas, se ajusta el tamaño de estas dado que no había estandarización al respecto lo cual iba a ser un problema al ajustar el modelo. por otro lado,  Con el data frame inicial se cruza para obtener el Split de train/test."
   ]
  },
  {
   "cell_type": "code",
   "execution_count": 6,
   "metadata": {},
   "outputs": [
    {
     "name": "stderr",
     "output_type": "stream",
     "text": [
      "C:\\ProgramData\\Anaconda3\\lib\\site-packages\\PIL\\TiffImagePlugin.py:725: UserWarning: Possibly corrupt EXIF data.  Expecting to read 80000 bytes but only got 0. Skipping tag 64640\n",
      "  \" Skipping tag %s\" % (size, len(data), tag))\n",
      "C:\\ProgramData\\Anaconda3\\lib\\site-packages\\PIL\\TiffImagePlugin.py:725: UserWarning: Possibly corrupt EXIF data.  Expecting to read 2652897280 bytes but only got 0. Skipping tag 2\n",
      "  \" Skipping tag %s\" % (size, len(data), tag))\n",
      "C:\\ProgramData\\Anaconda3\\lib\\site-packages\\PIL\\TiffImagePlugin.py:725: UserWarning: Possibly corrupt EXIF data.  Expecting to read 2656043008 bytes but only got 0. Skipping tag 2\n",
      "  \" Skipping tag %s\" % (size, len(data), tag))\n",
      "C:\\ProgramData\\Anaconda3\\lib\\site-packages\\PIL\\TiffImagePlugin.py:725: UserWarning: Possibly corrupt EXIF data.  Expecting to read 65536 bytes but only got 0. Skipping tag 3\n",
      "  \" Skipping tag %s\" % (size, len(data), tag))\n",
      "C:\\ProgramData\\Anaconda3\\lib\\site-packages\\PIL\\TiffImagePlugin.py:725: UserWarning: Possibly corrupt EXIF data.  Expecting to read 334102528 bytes but only got 0. Skipping tag 5\n",
      "  \" Skipping tag %s\" % (size, len(data), tag))\n",
      "C:\\ProgramData\\Anaconda3\\lib\\site-packages\\PIL\\TiffImagePlugin.py:725: UserWarning: Possibly corrupt EXIF data.  Expecting to read 334626816 bytes but only got 0. Skipping tag 5\n",
      "  \" Skipping tag %s\" % (size, len(data), tag))\n",
      "C:\\ProgramData\\Anaconda3\\lib\\site-packages\\PIL\\TiffImagePlugin.py:725: UserWarning: Possibly corrupt EXIF data.  Expecting to read 131072 bytes but only got 0. Skipping tag 3\n",
      "  \" Skipping tag %s\" % (size, len(data), tag))\n",
      "C:\\ProgramData\\Anaconda3\\lib\\site-packages\\PIL\\TiffImagePlugin.py:725: UserWarning: Possibly corrupt EXIF data.  Expecting to read 347602944 bytes but only got 0. Skipping tag 4\n",
      "  \" Skipping tag %s\" % (size, len(data), tag))\n",
      "C:\\ProgramData\\Anaconda3\\lib\\site-packages\\PIL\\TiffImagePlugin.py:725: UserWarning: Possibly corrupt EXIF data.  Expecting to read 1982464 bytes but only got 5522. Skipping tag 0\n",
      "  \" Skipping tag %s\" % (size, len(data), tag))\n",
      "C:\\ProgramData\\Anaconda3\\lib\\site-packages\\PIL\\TiffImagePlugin.py:725: UserWarning: Possibly corrupt EXIF data.  Expecting to read 999424 bytes but only got 5522. Skipping tag 513\n",
      "  \" Skipping tag %s\" % (size, len(data), tag))\n",
      "C:\\ProgramData\\Anaconda3\\lib\\site-packages\\PIL\\TiffImagePlugin.py:725: UserWarning: Possibly corrupt EXIF data.  Expecting to read 3846701056 bytes but only got 0. Skipping tag 2\n",
      "  \" Skipping tag %s\" % (size, len(data), tag))\n",
      "C:\\ProgramData\\Anaconda3\\lib\\site-packages\\PIL\\TiffImagePlugin.py:725: UserWarning: Possibly corrupt EXIF data.  Expecting to read 3300917248 bytes but only got 0. Skipping tag 7\n",
      "  \" Skipping tag %s\" % (size, len(data), tag))\n",
      "C:\\ProgramData\\Anaconda3\\lib\\site-packages\\PIL\\TiffImagePlugin.py:725: UserWarning: Possibly corrupt EXIF data.  Expecting to read 196867 bytes but only got 5525. Skipping tag 0\n",
      "  \" Skipping tag %s\" % (size, len(data), tag))\n",
      "C:\\ProgramData\\Anaconda3\\lib\\site-packages\\PIL\\TiffImagePlugin.py:742: UserWarning: Corrupt EXIF data.  Expecting to read 12 bytes but only got 8. \n",
      "  warnings.warn(str(msg))\n"
     ]
    }
   ],
   "source": [
    "X_train = []\n",
    "y_train = []\n",
    "for i in dataTraining.egret:\n",
    "    images_train(os.path.join(path, 'birds/egret/', 'egr'+ str(i) + '.jpg'),0,(100,100))\n",
    "for i in dataTraining.mandarin:\n",
    "    images_train(os.path.join(path, 'birds/mandarin/', 'man'+ str(i) + '.jpg'),1,(100,100))\n",
    "for i in dataTraining.owl:\n",
    "    images_train(os.path.join(path, 'birds/owl/', 'owl'+ str(i) + '.jpg'),2,(100,100))\n",
    "for i in dataTraining.puffin:\n",
    "    images_train(os.path.join(path, 'birds/puffin/', 'puf'+ str(i) + '.jpg'),3,(100,100))\n",
    "for i in dataTraining.toucan:\n",
    "    images_train(os.path.join(path, 'birds/Toucan/', 'tou'+ str(i) + '.jpg'),4,(100,100))\n",
    "for i in dataTraining.wood_duck:\n",
    "    images_train(os.path.join(path, 'birds/wood_duck/', 'wod'+ str(i) + '.jpg'),5,(100,100))"
   ]
  },
  {
   "cell_type": "code",
   "execution_count": 7,
   "metadata": {},
   "outputs": [
    {
     "data": {
      "text/plain": [
       "((420, 100, 100, 3), (420, 1))"
      ]
     },
     "execution_count": 7,
     "metadata": {},
     "output_type": "execute_result"
    }
   ],
   "source": [
    "X_train = np.array(X_train)\n",
    "y_train = np.array(y_train)\n",
    "X_train.shape, y_train.shape"
   ]
  },
  {
   "cell_type": "code",
   "execution_count": 8,
   "metadata": {},
   "outputs": [],
   "source": [
    "X_test = []\n",
    "y_test = []\n",
    "for i in dataTesting.egret:\n",
    "    images_test(os.path.join(path, 'birds/egret/', 'egr'+ str(i) + '.jpg'),0,(100,100))\n",
    "for i in dataTesting.mandarin:\n",
    "    images_test(os.path.join(path, 'birds/mandarin/', 'man'+ str(i) + '.jpg'),1,(100,100))\n",
    "for i in dataTesting.owl:\n",
    "    images_test(os.path.join(path, 'birds/owl/', 'owl'+ str(i) + '.jpg'),2,(100,100))\n",
    "for i in dataTesting.puffin:\n",
    "    images_test(os.path.join(path, 'birds/puffin/', 'puf'+ str(i) + '.jpg'),3,(100,100))\n",
    "for i in dataTesting.toucan:\n",
    "    images_test(os.path.join(path, 'birds/toucan/', 'tou'+ str(i) + '.jpg'),4,(100,100))\n",
    "for i in dataTesting.wood_duck:\n",
    "    images_test(os.path.join(path, 'birds/wood_duck/', 'wod'+ str(i) + '.jpg'),5,(100,100))"
   ]
  },
  {
   "cell_type": "code",
   "execution_count": 9,
   "metadata": {},
   "outputs": [
    {
     "data": {
      "text/plain": [
       "((180, 100, 100, 3), (180, 1))"
      ]
     },
     "execution_count": 9,
     "metadata": {},
     "output_type": "execute_result"
    }
   ],
   "source": [
    "X_test = np.array(X_test)\n",
    "y_test = np.array(y_test)\n",
    "X_test.shape, y_test.shape"
   ]
  },
  {
   "cell_type": "code",
   "execution_count": 10,
   "metadata": {},
   "outputs": [
    {
     "data": {
      "text/plain": [
       "(420, 6)"
      ]
     },
     "execution_count": 10,
     "metadata": {},
     "output_type": "execute_result"
    }
   ],
   "source": [
    "import keras\n",
    "nb_classes = 6\n",
    "y_train = keras.utils.to_categorical(y_train,nb_classes)\n",
    "y_train.shape"
   ]
  },
  {
   "cell_type": "code",
   "execution_count": 11,
   "metadata": {
    "scrolled": true
   },
   "outputs": [
    {
     "data": {
      "text/plain": [
       "(180, 6)"
      ]
     },
     "execution_count": 11,
     "metadata": {},
     "output_type": "execute_result"
    }
   ],
   "source": [
    "import keras\n",
    "nb_classes = 6\n",
    "y_test = keras.utils.to_categorical(y_test,nb_classes)\n",
    "y_test.shape"
   ]
  },
  {
   "cell_type": "code",
   "execution_count": 12,
   "metadata": {},
   "outputs": [],
   "source": [
    "from keras.models import Sequential\n",
    "from keras.layers import Dense, Dropout, Activation, Flatten\n",
    "from keras.layers import Conv2D, MaxPooling2D"
   ]
  },
  {
   "cell_type": "markdown",
   "metadata": {},
   "source": [
    "Se utiliza el modelo pre-entrenado vgg16 con los pesos de image net para la clasificación de las imágenes."
   ]
  },
  {
   "cell_type": "code",
   "execution_count": 13,
   "metadata": {},
   "outputs": [],
   "source": [
    "from keras.applications.vgg16 import VGG16\n",
    "model_vgg16 = VGG16(weights='imagenet', include_top=False)"
   ]
  },
  {
   "cell_type": "code",
   "execution_count": 14,
   "metadata": {},
   "outputs": [],
   "source": [
    "X_train_2 = model_vgg16.predict(X_train)\n",
    "#X_train_2.shape"
   ]
  },
  {
   "cell_type": "code",
   "execution_count": 15,
   "metadata": {},
   "outputs": [
    {
     "data": {
      "text/plain": [
       "(420, 3, 3, 512)"
      ]
     },
     "execution_count": 15,
     "metadata": {},
     "output_type": "execute_result"
    }
   ],
   "source": [
    "X_train_2.shape"
   ]
  },
  {
   "cell_type": "markdown",
   "metadata": {},
   "source": [
    "Se ajusta una red neuronal con las especificaciones dadas y Se varía el optimizer para validar con cuál se obtiene un mejor accuracy"
   ]
  },
  {
   "cell_type": "markdown",
   "metadata": {},
   "source": [
    "### Optimizer RMSprop"
   ]
  },
  {
   "cell_type": "code",
   "execution_count": 16,
   "metadata": {},
   "outputs": [
    {
     "name": "stdout",
     "output_type": "stream",
     "text": [
      "_________________________________________________________________\n",
      "Layer (type)                 Output Shape              Param #   \n",
      "=================================================================\n",
      "flatten_1 (Flatten)          (None, 4608)              0         \n",
      "_________________________________________________________________\n",
      "dense_1 (Dense)              (None, 512)               2359808   \n",
      "_________________________________________________________________\n",
      "activation_1 (Activation)    (None, 512)               0         \n",
      "_________________________________________________________________\n",
      "dropout_1 (Dropout)          (None, 512)               0         \n",
      "_________________________________________________________________\n",
      "dense_2 (Dense)              (None, 6)                 3078      \n",
      "_________________________________________________________________\n",
      "activation_2 (Activation)    (None, 6)                 0         \n",
      "=================================================================\n",
      "Total params: 2,362,886\n",
      "Trainable params: 2,362,886\n",
      "Non-trainable params: 0\n",
      "_________________________________________________________________\n"
     ]
    }
   ],
   "source": [
    "model = Sequential()\n",
    "\n",
    "model.add(Flatten(input_shape=(3,3,512)))\n",
    "model.add(Dense(units=512))\n",
    "model.add(Activation('relu'))\n",
    "model.add(Dropout(0.5, noise_shape=None, seed=None))\n",
    "model.add(Dense(units=6))\n",
    "model.add(Activation('softmax'))\n",
    "model.summary()"
   ]
  },
  {
   "cell_type": "code",
   "execution_count": 17,
   "metadata": {},
   "outputs": [
    {
     "name": "stdout",
     "output_type": "stream",
     "text": [
      "_________________________________________________________________\n",
      "Layer (type)                 Output Shape              Param #   \n",
      "=================================================================\n",
      "flatten_1 (Flatten)          (None, 4608)              0         \n",
      "_________________________________________________________________\n",
      "dense_1 (Dense)              (None, 512)               2359808   \n",
      "_________________________________________________________________\n",
      "activation_1 (Activation)    (None, 512)               0         \n",
      "_________________________________________________________________\n",
      "dropout_1 (Dropout)          (None, 512)               0         \n",
      "_________________________________________________________________\n",
      "dense_2 (Dense)              (None, 6)                 3078      \n",
      "_________________________________________________________________\n",
      "activation_2 (Activation)    (None, 6)                 0         \n",
      "=================================================================\n",
      "Total params: 2,362,886\n",
      "Trainable params: 2,362,886\n",
      "Non-trainable params: 0\n",
      "_________________________________________________________________\n"
     ]
    }
   ],
   "source": [
    "from keras.optimizers import RMSprop\n",
    "model.compile(loss='categorical_crossentropy',\n",
    "              optimizer=RMSprop(lr=0.001, rho=0.9, epsilon=None, decay=0.0),\n",
    "              metrics=['accuracy'])\n",
    "model.summary()"
   ]
  },
  {
   "cell_type": "code",
   "execution_count": 18,
   "metadata": {},
   "outputs": [
    {
     "name": "stdout",
     "output_type": "stream",
     "text": [
      "Train on 378 samples, validate on 42 samples\n",
      "Epoch 1/10\n",
      "378/378 [==============================] - ETA: 2s - loss: 12.0891 - acc: 0.25 - ETA: 0s - loss: 11.6325 - acc: 0.27 - ETA: 0s - loss: 11.9192 - acc: 0.25 - ETA: 0s - loss: 12.0181 - acc: 0.24 - ETA: 0s - loss: 11.9788 - acc: 0.25 - ETA: 0s - loss: 11.8325 - acc: 0.25 - 1s 2ms/step - loss: 11.7459 - acc: 0.2593 - val_loss: 2.8835 - val_acc: 0.8095\n",
      "Epoch 2/10\n",
      "378/378 [==============================] - ETA: 0s - loss: 9.0689 - acc: 0.437 - ETA: 0s - loss: 10.0217 - acc: 0.37 - ETA: 0s - loss: 9.6656 - acc: 0.3828 - ETA: 0s - loss: 9.3917 - acc: 0.400 - ETA: 0s - loss: 9.1738 - acc: 0.415 - ETA: 0s - loss: 8.9709 - acc: 0.429 - ETA: 0s - loss: 9.0458 - acc: 0.425 - 1s 1ms/step - loss: 8.9319 - acc: 0.4339 - val_loss: 15.3607 - val_acc: 0.0476\n",
      "Epoch 3/10\n",
      "378/378 [==============================] - ETA: 0s - loss: 8.5627 - acc: 0.468 - ETA: 0s - loss: 8.0590 - acc: 0.500 - ETA: 0s - loss: 7.5554 - acc: 0.531 - ETA: 0s - loss: 7.5097 - acc: 0.531 - ETA: 0s - loss: 7.8211 - acc: 0.512 - ETA: 0s - loss: 7.5255 - acc: 0.531 - ETA: 0s - loss: 7.6736 - acc: 0.522 - ETA: 0s - loss: 7.9562 - acc: 0.503 - ETA: 0s - loss: 7.5059 - acc: 0.531 - ETA: 0s - loss: 7.5123 - acc: 0.528 - 1s 2ms/step - loss: 7.5781 - acc: 0.5238 - val_loss: 3.6672 - val_acc: 0.7381\n",
      "Epoch 4/10\n",
      "378/378 [==============================] - ETA: 0s - loss: 4.5759 - acc: 0.687 - ETA: 0s - loss: 6.0656 - acc: 0.609 - ETA: 0s - loss: 5.8347 - acc: 0.625 - ETA: 0s - loss: 6.0725 - acc: 0.614 - ETA: 0s - loss: 6.0317 - acc: 0.605 - ETA: 0s - loss: 6.2335 - acc: 0.590 - 1s 1ms/step - loss: 6.2151 - acc: 0.5952 - val_loss: 8.8054 - val_acc: 0.3571\n",
      "Epoch 5/10\n",
      "378/378 [==============================] - ETA: 0s - loss: 5.8506 - acc: 0.625 - ETA: 0s - loss: 5.2870 - acc: 0.666 - ETA: 0s - loss: 5.3654 - acc: 0.656 - ETA: 0s - loss: 5.6810 - acc: 0.638 - ETA: 0s - loss: 5.7268 - acc: 0.636 - ETA: 0s - loss: 5.5942 - acc: 0.645 - ETA: 0s - loss: 5.4881 - acc: 0.653 - 1s 1ms/step - loss: 5.4634 - acc: 0.6534 - val_loss: 11.2711 - val_acc: 0.2619\n",
      "Epoch 6/10\n",
      "378/378 [==============================] - ETA: 0s - loss: 5.5410 - acc: 0.656 - ETA: 0s - loss: 5.2890 - acc: 0.671 - ETA: 0s - loss: 5.2677 - acc: 0.666 - ETA: 0s - loss: 5.5064 - acc: 0.648 - ETA: 0s - loss: 5.7362 - acc: 0.630 - ETA: 0s - loss: 5.5614 - acc: 0.644 - ETA: 0s - loss: 5.5148 - acc: 0.646 - 1s 1ms/step - loss: 4.9739 - acc: 0.6799 - val_loss: 12.4070 - val_acc: 0.1905\n",
      "Epoch 7/10\n",
      "378/378 [==============================] - ETA: 0s - loss: 4.5332 - acc: 0.718 - ETA: 0s - loss: 5.5406 - acc: 0.656 - ETA: 0s - loss: 5.1376 - acc: 0.681 - ETA: 0s - loss: 4.9581 - acc: 0.692 - ETA: 0s - loss: 4.9370 - acc: 0.691 - ETA: 0s - loss: 4.8458 - acc: 0.696 - 1s 1ms/step - loss: 4.8963 - acc: 0.6931 - val_loss: 14.8425 - val_acc: 0.0476\n",
      "Epoch 8/10\n",
      "378/378 [==============================] - ETA: 0s - loss: 6.2425 - acc: 0.593 - ETA: 0s - loss: 6.6895 - acc: 0.562 - ETA: 0s - loss: 5.9830 - acc: 0.604 - ETA: 0s - loss: 5.2428 - acc: 0.656 - ETA: 0s - loss: 4.9969 - acc: 0.671 - ETA: 0s - loss: 5.6995 - acc: 0.632 - ETA: 0s - loss: 5.9196 - acc: 0.621 - 1s 1ms/step - loss: 5.7370 - acc: 0.6349 - val_loss: 5.0828 - val_acc: 0.6429\n",
      "Epoch 9/10\n",
      "378/378 [==============================] - ETA: 0s - loss: 4.0295 - acc: 0.750 - ETA: 0s - loss: 4.2177 - acc: 0.729 - ETA: 0s - loss: 4.4450 - acc: 0.718 - ETA: 0s - loss: 4.1088 - acc: 0.739 - ETA: 0s - loss: 4.0260 - acc: 0.746 - ETA: 0s - loss: 4.3290 - acc: 0.728 - 1s 1ms/step - loss: 4.3044 - acc: 0.7302 - val_loss: 5.3370 - val_acc: 0.6667\n",
      "Epoch 10/10\n",
      "378/378 [==============================] - ETA: 0s - loss: 4.0295 - acc: 0.750 - ETA: 0s - loss: 4.1165 - acc: 0.734 - ETA: 0s - loss: 4.3410 - acc: 0.718 - ETA: 0s - loss: 4.5279 - acc: 0.708 - ETA: 0s - loss: 4.4663 - acc: 0.714 - ETA: 0s - loss: 4.3918 - acc: 0.718 - ETA: 0s - loss: 4.3718 - acc: 0.721 - 1s 1ms/step - loss: 4.4548 - acc: 0.7169 - val_loss: 10.3617 - val_acc: 0.3571\n"
     ]
    }
   ],
   "source": [
    "batch_size = 32\n",
    "epochs = 10\n",
    "history = model.fit(X_train_2, y_train,\n",
    "                    batch_size=batch_size,\n",
    "                    epochs=epochs,\n",
    "                    verbose=1,\n",
    "                    validation_split=0.1)"
   ]
  },
  {
   "cell_type": "code",
   "execution_count": 19,
   "metadata": {},
   "outputs": [
    {
     "name": "stdout",
     "output_type": "stream",
     "text": [
      "180/180 [==============================] - ETA:  - 0s 220us/step\n"
     ]
    }
   ],
   "source": [
    "y_pred = model_vgg16.predict(X_test)\n",
    "score = model.evaluate(y_pred, y_test)"
   ]
  },
  {
   "cell_type": "code",
   "execution_count": 20,
   "metadata": {},
   "outputs": [
    {
     "name": "stdout",
     "output_type": "stream",
     "text": [
      "Test accuracy: 0.6944444437821706\n",
      "Test score: 4.873859723409017\n"
     ]
    }
   ],
   "source": [
    "print('Test accuracy:', score[1])\n",
    "print('Test score:', score[0])"
   ]
  },
  {
   "cell_type": "markdown",
   "metadata": {},
   "source": [
    "### Optimizer RDG"
   ]
  },
  {
   "cell_type": "code",
   "execution_count": 24,
   "metadata": {},
   "outputs": [
    {
     "name": "stdout",
     "output_type": "stream",
     "text": [
      "_________________________________________________________________\n",
      "Layer (type)                 Output Shape              Param #   \n",
      "=================================================================\n",
      "flatten_2 (Flatten)          (None, 4608)              0         \n",
      "_________________________________________________________________\n",
      "dense_3 (Dense)              (None, 512)               2359808   \n",
      "_________________________________________________________________\n",
      "activation_3 (Activation)    (None, 512)               0         \n",
      "_________________________________________________________________\n",
      "dropout_2 (Dropout)          (None, 512)               0         \n",
      "_________________________________________________________________\n",
      "dense_4 (Dense)              (None, 6)                 3078      \n",
      "_________________________________________________________________\n",
      "activation_4 (Activation)    (None, 6)                 0         \n",
      "=================================================================\n",
      "Total params: 2,362,886\n",
      "Trainable params: 2,362,886\n",
      "Non-trainable params: 0\n",
      "_________________________________________________________________\n",
      "_________________________________________________________________\n",
      "Layer (type)                 Output Shape              Param #   \n",
      "=================================================================\n",
      "flatten_2 (Flatten)          (None, 4608)              0         \n",
      "_________________________________________________________________\n",
      "dense_3 (Dense)              (None, 512)               2359808   \n",
      "_________________________________________________________________\n",
      "activation_3 (Activation)    (None, 512)               0         \n",
      "_________________________________________________________________\n",
      "dropout_2 (Dropout)          (None, 512)               0         \n",
      "_________________________________________________________________\n",
      "dense_4 (Dense)              (None, 6)                 3078      \n",
      "_________________________________________________________________\n",
      "activation_4 (Activation)    (None, 6)                 0         \n",
      "=================================================================\n",
      "Total params: 2,362,886\n",
      "Trainable params: 2,362,886\n",
      "Non-trainable params: 0\n",
      "_________________________________________________________________\n"
     ]
    }
   ],
   "source": [
    "from keras.optimizers import SGD\n",
    "model = Sequential()\n",
    "\n",
    "model.add(Flatten(input_shape=(3,3,512)))\n",
    "model.add(Dense(units=512))\n",
    "model.add(Activation('relu'))\n",
    "model.add(Dropout(0.5, noise_shape=None, seed=None))\n",
    "model.add(Dense(units=6))\n",
    "model.add(Activation('softmax'))\n",
    "model.summary()\n",
    "\n",
    "model.compile(loss='categorical_crossentropy',\n",
    "              optimizer=SGD(),\n",
    "              metrics=['accuracy'])\n",
    "model.summary()"
   ]
  },
  {
   "cell_type": "code",
   "execution_count": 25,
   "metadata": {},
   "outputs": [
    {
     "name": "stdout",
     "output_type": "stream",
     "text": [
      "Train on 378 samples, validate on 42 samples\n",
      "Epoch 1/10\n",
      "378/378 [==============================] - ETA: 2s - loss: 14.3048 - acc: 0.09 - ETA: 0s - loss: 13.0316 - acc: 0.17 - ETA: 0s - loss: 12.3112 - acc: 0.21 - ETA: 0s - loss: 12.4634 - acc: 0.20 - ETA: 0s - loss: 12.4959 - acc: 0.20 - ETA: 0s - loss: 12.1477 - acc: 0.23 - 1s 2ms/step - loss: 12.2502 - acc: 0.2275 - val_loss: 9.8290 - val_acc: 0.3571\n",
      "Epoch 2/10\n",
      "378/378 [==============================] - ETA: 0s - loss: 10.0778 - acc: 0.37 - ETA: 0s - loss: 9.3499 - acc: 0.4167 - ETA: 0s - loss: 9.6394 - acc: 0.400 - ETA: 0s - loss: 9.8355 - acc: 0.388 - ETA: 0s - loss: 9.9629 - acc: 0.378 - ETA: 0s - loss: 10.1638 - acc: 0.36 - 0s 975us/step - loss: 10.1470 - acc: 0.3651 - val_loss: 12.6684 - val_acc: 0.1667\n",
      "Epoch 3/10\n",
      "378/378 [==============================] - ETA: 0s - loss: 11.2540 - acc: 0.28 - ETA: 0s - loss: 11.8001 - acc: 0.26 - ETA: 0s - loss: 11.9155 - acc: 0.25 - ETA: 0s - loss: 11.8210 - acc: 0.26 - ETA: 0s - loss: 11.9924 - acc: 0.25 - ETA: 0s - loss: 12.0114 - acc: 0.24 - 0s 976us/step - loss: 11.8930 - acc: 0.2540 - val_loss: 15.6100 - val_acc: 0.0238\n",
      "Epoch 4/10\n",
      "378/378 [==============================] - ETA: 0s - loss: 10.5775 - acc: 0.34 - ETA: 0s - loss: 10.5775 - acc: 0.34 - ETA: 0s - loss: 10.5775 - acc: 0.34 - ETA: 0s - loss: 10.0019 - acc: 0.37 - ETA: 0s - loss: 10.2417 - acc: 0.36 - ETA: 0s - loss: 10.1654 - acc: 0.36 - 0s 985us/step - loss: 10.2337 - acc: 0.3651 - val_loss: 15.6100 - val_acc: 0.0238\n",
      "Epoch 5/10\n",
      "378/378 [==============================] - ETA: 0s - loss: 10.0738 - acc: 0.37 - ETA: 0s - loss: 10.7454 - acc: 0.33 - ETA: 0s - loss: 10.8797 - acc: 0.32 - ETA: 0s - loss: 10.7934 - acc: 0.33 - ETA: 0s - loss: 10.4096 - acc: 0.35 - ETA: 0s - loss: 10.1066 - acc: 0.37 - 0s 1ms/step - loss: 9.9680 - acc: 0.3783 - val_loss: 1.1921e-07 - val_acc: 1.0000\n",
      "Epoch 6/10\n",
      "378/378 [==============================] - ETA: 0s - loss: 7.9429 - acc: 0.500 - ETA: 0s - loss: 9.0682 - acc: 0.427 - ETA: 0s - loss: 8.8038 - acc: 0.443 - ETA: 0s - loss: 8.5881 - acc: 0.459 - ETA: 0s - loss: 8.7504 - acc: 0.451 - ETA: 0s - loss: 9.1800 - acc: 0.423 - 0s 1ms/step - loss: 9.4867 - acc: 0.4048 - val_loss: 14.1728 - val_acc: 0.0952\n",
      "Epoch 7/10\n",
      "378/378 [==============================] - ETA: 0s - loss: 8.5627 - acc: 0.468 - ETA: 0s - loss: 10.5775 - acc: 0.34 - ETA: 0s - loss: 11.6856 - acc: 0.27 - ETA: 0s - loss: 12.3764 - acc: 0.23 - ETA: 0s - loss: 12.0366 - acc: 0.25 - ETA: 0s - loss: 12.2376 - acc: 0.23 - 0s 1ms/step - loss: 12.2060 - acc: 0.2381 - val_loss: 1.1921e-07 - val_acc: 1.0000\n",
      "Epoch 8/10\n",
      "378/378 [==============================] - ETA: 0s - loss: 10.4533 - acc: 0.34 - ETA: 0s - loss: 10.2311 - acc: 0.35 - ETA: 0s - loss: 10.1682 - acc: 0.36 - ETA: 0s - loss: 10.0693 - acc: 0.37 - ETA: 0s - loss: 10.2942 - acc: 0.35 - ETA: 0s - loss: 9.9385 - acc: 0.3778 - 0s 1ms/step - loss: 9.9372 - acc: 0.3783 - val_loss: 9.5373 - val_acc: 0.3810\n",
      "Epoch 9/10\n",
      "378/378 [==============================] - ETA: 0s - loss: 8.5627 - acc: 0.468 - ETA: 0s - loss: 9.2343 - acc: 0.427 - ETA: 0s - loss: 9.5701 - acc: 0.406 - ETA: 0s - loss: 9.5701 - acc: 0.406 - ETA: 0s - loss: 9.6261 - acc: 0.402 - ETA: 0s - loss: 9.4722 - acc: 0.411 - 0s 1ms/step - loss: 9.5029 - acc: 0.4101 - val_loss: 6.3160 - val_acc: 0.5714\n",
      "Epoch 10/10\n",
      "378/378 [==============================] - ETA: 0s - loss: 8.0590 - acc: 0.500 - ETA: 0s - loss: 7.5554 - acc: 0.531 - ETA: 0s - loss: 8.0590 - acc: 0.500 - ETA: 0s - loss: 8.0590 - acc: 0.500 - ETA: 0s - loss: 8.4508 - acc: 0.475 - ETA: 0s - loss: 8.6543 - acc: 0.463 - 0s 1ms/step - loss: 8.7413 - acc: 0.4577 - val_loss: 6.3158 - val_acc: 0.5714\n"
     ]
    }
   ],
   "source": [
    "batch_size = 32\n",
    "epochs = 10\n",
    "history = model.fit(X_train_2, y_train,\n",
    "                    batch_size=batch_size,\n",
    "                    epochs=epochs,\n",
    "                    verbose=1,\n",
    "                    validation_split=0.1)"
   ]
  },
  {
   "cell_type": "code",
   "execution_count": null,
   "metadata": {},
   "outputs": [],
   "source": [
    "score = model.evaluate(y_pred, y_test)"
   ]
  },
  {
   "cell_type": "code",
   "execution_count": 29,
   "metadata": {},
   "outputs": [
    {
     "name": "stdout",
     "output_type": "stream",
     "text": [
      "Test accuracy: 0.43333333333333335\n",
      "Test score: 9.137280951605902\n"
     ]
    }
   ],
   "source": [
    "print('Test accuracy:', score[1])\n",
    "print('Test score:', score[0])"
   ]
  },
  {
   "cell_type": "markdown",
   "metadata": {},
   "source": [
    "### Optimizer ADAM"
   ]
  },
  {
   "cell_type": "code",
   "execution_count": 30,
   "metadata": {},
   "outputs": [
    {
     "name": "stdout",
     "output_type": "stream",
     "text": [
      "_________________________________________________________________\n",
      "Layer (type)                 Output Shape              Param #   \n",
      "=================================================================\n",
      "flatten_3 (Flatten)          (None, 4608)              0         \n",
      "_________________________________________________________________\n",
      "dense_5 (Dense)              (None, 512)               2359808   \n",
      "_________________________________________________________________\n",
      "activation_5 (Activation)    (None, 512)               0         \n",
      "_________________________________________________________________\n",
      "dropout_3 (Dropout)          (None, 512)               0         \n",
      "_________________________________________________________________\n",
      "dense_6 (Dense)              (None, 6)                 3078      \n",
      "_________________________________________________________________\n",
      "activation_6 (Activation)    (None, 6)                 0         \n",
      "=================================================================\n",
      "Total params: 2,362,886\n",
      "Trainable params: 2,362,886\n",
      "Non-trainable params: 0\n",
      "_________________________________________________________________\n",
      "_________________________________________________________________\n",
      "Layer (type)                 Output Shape              Param #   \n",
      "=================================================================\n",
      "flatten_3 (Flatten)          (None, 4608)              0         \n",
      "_________________________________________________________________\n",
      "dense_5 (Dense)              (None, 512)               2359808   \n",
      "_________________________________________________________________\n",
      "activation_5 (Activation)    (None, 512)               0         \n",
      "_________________________________________________________________\n",
      "dropout_3 (Dropout)          (None, 512)               0         \n",
      "_________________________________________________________________\n",
      "dense_6 (Dense)              (None, 6)                 3078      \n",
      "_________________________________________________________________\n",
      "activation_6 (Activation)    (None, 6)                 0         \n",
      "=================================================================\n",
      "Total params: 2,362,886\n",
      "Trainable params: 2,362,886\n",
      "Non-trainable params: 0\n",
      "_________________________________________________________________\n"
     ]
    }
   ],
   "source": [
    "from keras.optimizers import Adam\n",
    "model = Sequential()\n",
    "\n",
    "model.add(Flatten(input_shape=(3,3,512)))\n",
    "model.add(Dense(units=512))\n",
    "model.add(Activation('relu'))\n",
    "model.add(Dropout(0.5, noise_shape=None, seed=None))\n",
    "model.add(Dense(units=6))\n",
    "model.add(Activation('softmax'))\n",
    "model.summary()\n",
    "\n",
    "model.compile(loss='categorical_crossentropy',\n",
    "              optimizer=Adam(),\n",
    "              metrics=['accuracy'])\n",
    "model.summary()"
   ]
  },
  {
   "cell_type": "code",
   "execution_count": 31,
   "metadata": {},
   "outputs": [
    {
     "name": "stdout",
     "output_type": "stream",
     "text": [
      "Train on 378 samples, validate on 42 samples\n",
      "Epoch 1/10\n",
      "378/378 [==============================] - ETA: 3s - loss: 12.7014 - acc: 0.18 - ETA: 1s - loss: 13.1285 - acc: 0.14 - ETA: 1s - loss: 12.6578 - acc: 0.16 - ETA: 0s - loss: 12.5903 - acc: 0.17 - ETA: 0s - loss: 12.5944 - acc: 0.18 - ETA: 0s - loss: 12.5101 - acc: 0.19 - ETA: 0s - loss: 12.3354 - acc: 0.20 - ETA: 0s - loss: 12.2862 - acc: 0.21 - ETA: 0s - loss: 12.2082 - acc: 0.21 - ETA: 0s - loss: 12.2335 - acc: 0.21 - ETA: 0s - loss: 12.1636 - acc: 0.21 - 1s 3ms/step - loss: 12.0945 - acc: 0.2249 - val_loss: 16.1181 - val_acc: 0.0000e+00\n",
      "Epoch 2/10\n",
      "378/378 [==============================] - ETA: 0s - loss: 10.0738 - acc: 0.37 - ETA: 0s - loss: 11.3330 - acc: 0.29 - ETA: 0s - loss: 10.9133 - acc: 0.32 - ETA: 0s - loss: 10.7034 - acc: 0.33 - ETA: 0s - loss: 10.3760 - acc: 0.35 - ETA: 0s - loss: 10.0738 - acc: 0.37 - ETA: 0s - loss: 10.0738 - acc: 0.37 - ETA: 0s - loss: 10.5145 - acc: 0.34 - ETA: 0s - loss: 10.3760 - acc: 0.35 - ETA: 0s - loss: 10.4859 - acc: 0.34 - 1s 2ms/step - loss: 10.6601 - acc: 0.3386 - val_loss: 16.1181 - val_acc: 0.0000e+00\n",
      "Epoch 3/10\n",
      "378/378 [==============================] - ETA: 0s - loss: 11.0812 - acc: 0.31 - ETA: 0s - loss: 10.9739 - acc: 0.31 - ETA: 0s - loss: 10.8472 - acc: 0.32 - ETA: 0s - loss: 11.1576 - acc: 0.30 - ETA: 0s - loss: 11.1423 - acc: 0.30 - ETA: 0s - loss: 10.7084 - acc: 0.33 - ETA: 0s - loss: 10.6897 - acc: 0.33 - ETA: 0s - loss: 10.6756 - acc: 0.33 - ETA: 0s - loss: 10.7207 - acc: 0.33 - ETA: 0s - loss: 10.7064 - acc: 0.33 - ETA: 0s - loss: 10.6947 - acc: 0.33 - 1s 2ms/step - loss: 10.6975 - acc: 0.3333 - val_loss: 16.1181 - val_acc: 0.0000e+00\n",
      "Epoch 4/10\n",
      "378/378 [==============================] - ETA: 0s - loss: 10.0738 - acc: 0.37 - ETA: 0s - loss: 10.8293 - acc: 0.32 - ETA: 0s - loss: 10.7454 - acc: 0.33 - ETA: 0s - loss: 11.0812 - acc: 0.31 - ETA: 0s - loss: 10.9805 - acc: 0.31 - ETA: 0s - loss: 10.8293 - acc: 0.32 - ETA: 0s - loss: 10.9098 - acc: 0.32 - ETA: 0s - loss: 10.7423 - acc: 0.33 - ETA: 0s - loss: 10.6681 - acc: 0.33 - ETA: 0s - loss: 10.7014 - acc: 0.33 - ETA: 0s - loss: 10.8733 - acc: 0.32 - 1s 2ms/step - loss: 10.5091 - acc: 0.3466 - val_loss: 16.1181 - val_acc: 0.0000e+00\n",
      "Epoch 5/10\n",
      "378/378 [==============================] - ETA: 0s - loss: 9.5701 - acc: 0.406 - ETA: 0s - loss: 9.8220 - acc: 0.390 - ETA: 0s - loss: 9.2343 - acc: 0.427 - ETA: 0s - loss: 9.8220 - acc: 0.390 - ETA: 0s - loss: 10.2753 - acc: 0.36 - ETA: 0s - loss: 10.3570 - acc: 0.35 - ETA: 0s - loss: 10.1007 - acc: 0.37 - ETA: 0s - loss: 10.3252 - acc: 0.35 - ETA: 0s - loss: 10.3533 - acc: 0.35 - ETA: 0s - loss: 10.1239 - acc: 0.36 - ETA: 0s - loss: 9.9819 - acc: 0.3778 - 1s 2ms/step - loss: 9.8528 - acc: 0.3836 - val_loss: 16.1181 - val_acc: 0.0000e+00\n",
      "Epoch 6/10\n",
      "378/378 [==============================] - ETA: 0s - loss: 9.1314 - acc: 0.375 - ETA: 0s - loss: 8.7545 - acc: 0.421 - ETA: 0s - loss: 8.8585 - acc: 0.427 - ETA: 0s - loss: 8.9429 - acc: 0.421 - ETA: 0s - loss: 8.6654 - acc: 0.443 - ETA: 0s - loss: 8.7323 - acc: 0.442 - ETA: 0s - loss: 8.7851 - acc: 0.437 - ETA: 0s - loss: 8.9993 - acc: 0.425 - ETA: 0s - loss: 8.6930 - acc: 0.444 - ETA: 0s - loss: 8.5289 - acc: 0.456 - ETA: 0s - loss: 8.4404 - acc: 0.463 - 1s 2ms/step - loss: 8.4141 - acc: 0.4656 - val_loss: 16.1181 - val_acc: 0.0000e+00\n",
      "Epoch 7/10\n",
      "378/378 [==============================] - ETA: 0s - loss: 8.0772 - acc: 0.468 - ETA: 0s - loss: 8.3200 - acc: 0.468 - ETA: 0s - loss: 9.3139 - acc: 0.406 - ETA: 0s - loss: 9.7575 - acc: 0.375 - ETA: 0s - loss: 9.7784 - acc: 0.375 - ETA: 0s - loss: 9.4079 - acc: 0.401 - ETA: 0s - loss: 8.8555 - acc: 0.437 - ETA: 0s - loss: 8.7666 - acc: 0.441 - ETA: 0s - loss: 8.7439 - acc: 0.444 - ETA: 0s - loss: 8.5747 - acc: 0.456 - ETA: 0s - loss: 8.5736 - acc: 0.457 - 1s 2ms/step - loss: 8.5382 - acc: 0.4603 - val_loss: 16.1181 - val_acc: 0.0000e+00\n",
      "Epoch 8/10\n",
      "378/378 [==============================] - ETA: 0s - loss: 9.4163 - acc: 0.406 - ETA: 0s - loss: 8.6665 - acc: 0.453 - ETA: 0s - loss: 8.7998 - acc: 0.447 - ETA: 0s - loss: 8.3628 - acc: 0.476 - ETA: 0s - loss: 7.9998 - acc: 0.500 - ETA: 0s - loss: 7.8978 - acc: 0.505 - ETA: 0s - loss: 7.9381 - acc: 0.500 - ETA: 0s - loss: 7.7014 - acc: 0.515 - ETA: 0s - loss: 7.9091 - acc: 0.503 - ETA: 0s - loss: 7.9744 - acc: 0.500 - ETA: 0s - loss: 8.0737 - acc: 0.494 - 1s 2ms/step - loss: 8.1580 - acc: 0.4894 - val_loss: 16.1181 - val_acc: 0.0000e+00\n",
      "Epoch 9/10\n",
      "378/378 [==============================] - ETA: 0s - loss: 6.5480 - acc: 0.593 - ETA: 0s - loss: 8.5627 - acc: 0.468 - ETA: 0s - loss: 7.8912 - acc: 0.510 - ETA: 0s - loss: 7.6813 - acc: 0.523 - ETA: 0s - loss: 8.2605 - acc: 0.487 - ETA: 0s - loss: 8.4788 - acc: 0.474 - ETA: 0s - loss: 8.5627 - acc: 0.468 - ETA: 0s - loss: 8.3739 - acc: 0.480 - ETA: 0s - loss: 8.1155 - acc: 0.496 - ETA: 0s - loss: 7.9084 - acc: 0.509 - ETA: 0s - loss: 8.1052 - acc: 0.497 - 1s 2ms/step - loss: 8.0594 - acc: 0.5000 - val_loss: 16.1181 - val_acc: 0.0000e+00\n",
      "Epoch 10/10\n",
      "378/378 [==============================] - ETA: 0s - loss: 8.0590 - acc: 0.500 - ETA: 0s - loss: 9.0664 - acc: 0.437 - ETA: 0s - loss: 8.3948 - acc: 0.479 - ETA: 0s - loss: 7.7349 - acc: 0.515 - ETA: 0s - loss: 7.6990 - acc: 0.518 - ETA: 0s - loss: 7.8630 - acc: 0.505 - ETA: 0s - loss: 7.9630 - acc: 0.500 - ETA: 0s - loss: 8.1639 - acc: 0.488 - ETA: 0s - loss: 8.2641 - acc: 0.482 - ETA: 0s - loss: 8.1933 - acc: 0.487 - ETA: 0s - loss: 8.2727 - acc: 0.483 - 1s 2ms/step - loss: 8.3007 - acc: 0.4815 - val_loss: 16.1181 - val_acc: 0.0000e+00\n"
     ]
    }
   ],
   "source": [
    "batch_size = 32\n",
    "epochs = 10\n",
    "history = model.fit(X_train_2, y_train,\n",
    "                    batch_size=batch_size,\n",
    "                    epochs=epochs,\n",
    "                    verbose=1,\n",
    "                    validation_split=0.1)"
   ]
  },
  {
   "cell_type": "code",
   "execution_count": 33,
   "metadata": {},
   "outputs": [
    {
     "name": "stdout",
     "output_type": "stream",
     "text": [
      "180/180 [==============================] - ETA:  - 0s 217us/step\n"
     ]
    }
   ],
   "source": [
    "score = model.evaluate(y_pred, y_test)"
   ]
  },
  {
   "cell_type": "code",
   "execution_count": 34,
   "metadata": {},
   "outputs": [
    {
     "name": "stdout",
     "output_type": "stream",
     "text": [
      "Test accuracy: 0.45555555555555555\n",
      "Test score: 8.775411160786946\n"
     ]
    }
   ],
   "source": [
    "print('Test accuracy:', score[1])\n",
    "print('Test score:', score[0])"
   ]
  },
  {
   "cell_type": "markdown",
   "metadata": {},
   "source": [
    "conclusiones generales: En general se tomaron en cuenta las especificaciones del problema dividiendo la data train y test. desde el enunciado se organizaron los datos de acuerdo a las imagenes dadas para el test y train y se uso de  ImageNet el modelo con VGG16 para clasificar las imagenes dadas del problema con las imagenes ya precargadas de este modelo. al probar dicho modelo con diferentes optimizadores, el que obtuvo el performance fue el optimizador RMSprop con el 0,69 de accurancy. "
   ]
  }
 ],
 "metadata": {
  "kernelspec": {
   "display_name": "Python 3",
   "language": "python",
   "name": "python3"
  },
  "language_info": {
   "codemirror_mode": {
    "name": "ipython",
    "version": 3
   },
   "file_extension": ".py",
   "mimetype": "text/x-python",
   "name": "python",
   "nbconvert_exporter": "python",
   "pygments_lexer": "ipython3",
   "version": "3.6.4"
  }
 },
 "nbformat": 4,
 "nbformat_minor": 1
}
